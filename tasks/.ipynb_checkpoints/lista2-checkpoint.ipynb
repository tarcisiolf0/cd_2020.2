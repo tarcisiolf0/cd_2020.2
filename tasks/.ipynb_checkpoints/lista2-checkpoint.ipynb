{
 "cells": [
  {
   "cell_type": "markdown",
   "id": "e9bb2d5e",
   "metadata": {},
   "source": [
    "# Lista 2 - Ciência de Dados\n",
    "\n",
    "## Tarcísio Lima Ferreira"
   ]
  },
  {
   "cell_type": "markdown",
   "id": "3349d0fc",
   "metadata": {},
   "source": [
    "## 1 - Qual a importância de modelos baseados em Árvores de Decisão para a extração de informação?"
   ]
  },
  {
   "cell_type": "markdown",
   "id": "c966cdfe",
   "metadata": {},
   "source": [
    "Tomada de Decisão ->\n",
    "Representação Gráfica -> Provar graficamente o porque a tomada de decisão a partir dos gráficos. Permite interpretar qual decisão está sendo tomada.\n",
    "Construção de Regras -> A partir da representação gráfica construir regras pra tomada de decisão?"
   ]
  },
  {
   "cell_type": "markdown",
   "id": "d4714439",
   "metadata": {},
   "source": [
    "## 2 - Sobre Redes Neurais, cite duas vantagens e duas desvantagens quando comparado com o classificador Naive Bayes. "
   ]
  },
  {
   "cell_type": "markdown",
   "id": "982822b5",
   "metadata": {},
   "source": [
    "As redes neurais demoram muito tempo para treinamento e possuem mais hiperparâmetros para serem sintonizadas em relação ao Naive Bayes. Mas, em geral, apresentam melhores resultados para problemas mais complexos e não precisam assumir a independência das características como o Naive Bayes."
   ]
  },
  {
   "cell_type": "markdown",
   "id": "5ff1234e",
   "metadata": {},
   "source": [
    "## 3 - Qual a vantagem de utilizar Máquinas de Vetores de Suporte comparado ao Perceptron? "
   ]
  },
  {
   "cell_type": "markdown",
   "id": "b09052d0",
   "metadata": {},
   "source": []
  },
  {
   "cell_type": "markdown",
   "id": "4aab2d1c",
   "metadata": {},
   "source": [
    "## 4 - Quais tipos de informação podemos extrair dos dados ao utilizar Séries Temporais? "
   ]
  },
  {
   "cell_type": "markdown",
   "id": "07f6013b",
   "metadata": {},
   "source": [
    "Compreender o mecanismo gerador da série e predizer o comportamento futuro da série. Também é possível descrever efetivamente o comportamento da série, encontrar periodicidades na série e tentar obter razões para o comportamento da série. Algumas características podem ser observados em séries temporais. São eles: tendência, sazonalidade e ruído."
   ]
  },
  {
   "cell_type": "markdown",
   "id": "48804ebf",
   "metadata": {},
   "source": [
    "## 5 - Cite e descreva três aplicações de Meta-aprendizado como uma ferramenta para o cientista de dados."
   ]
  },
  {
   "cell_type": "markdown",
   "id": "a4c50d6e",
   "metadata": {},
   "source": []
  },
  {
   "cell_type": "markdown",
   "id": "2548d3b8",
   "metadata": {},
   "source": [
    "## 6 - Usando técnicas de Visualização de Dados, construa um gráfico a partir dos seguintes dados:"
   ]
  },
  {
   "cell_type": "code",
   "execution_count": null,
   "id": "1f440e42",
   "metadata": {},
   "outputs": [],
   "source": []
  },
  {
   "cell_type": "markdown",
   "id": "567289d8",
   "metadata": {},
   "source": [
    "## 7 - Usando os dados a seguir e um classificador, a qual classe o texto “what do you mean” deveria ser classificado? "
   ]
  },
  {
   "cell_type": "code",
   "execution_count": null,
   "id": "2bc6a6b6",
   "metadata": {},
   "outputs": [],
   "source": []
  },
  {
   "cell_type": "markdown",
   "id": "3b5689c7",
   "metadata": {},
   "source": [
    "## 8 - Usando os dados temporais disponível no link a seguir sobre vendas de medicamentos na Austrália, que tipo de conclusões podemos obter?\n",
    "\n",
    "https://github.com/bapimentel/Ciencia-de-Dados/blob/master/Dados/Drugs.csv"
   ]
  },
  {
   "cell_type": "code",
   "execution_count": null,
   "id": "c03b52de",
   "metadata": {},
   "outputs": [],
   "source": []
  }
 ],
 "metadata": {
  "kernelspec": {
   "display_name": "Python 3.6.9 64-bit",
   "language": "python",
   "name": "python369jvsc74a57bd031f2aee4e71d21fbe5cf8b01ff0e069b9275f58929596ceb00d14d90e3e16cd6"
  },
  "language_info": {
   "codemirror_mode": {
    "name": "ipython",
    "version": 3
   },
   "file_extension": ".py",
   "mimetype": "text/x-python",
   "name": "python",
   "nbconvert_exporter": "python",
   "pygments_lexer": "ipython3",
   "version": "3.8.10"
  }
 },
 "nbformat": 4,
 "nbformat_minor": 5
}
