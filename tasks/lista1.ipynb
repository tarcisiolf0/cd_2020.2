{
 "cells": [
  {
   "cell_type": "code",
   "execution_count": 20,
   "id": "70adc213",
   "metadata": {},
   "outputs": [],
   "source": [
    "import numpy as np\n",
    "import matplotlib.pyplot as plt\n",
    "from scipy.stats import beta\n",
    "from random import randint"
   ]
  },
  {
   "cell_type": "markdown",
   "id": "11dbe1cc",
   "metadata": {},
   "source": [
    "# Lista 1 - Ciência de Dados\n",
    "\n",
    "## Tarcísio Lima Ferreira"
   ]
  },
  {
   "cell_type": "markdown",
   "id": "ede5accc",
   "metadata": {},
   "source": [
    "## 1 - Qual a diferença entre Big Data e Ciência de Dados?\n",
    "\n",
    "Big Data são conjuntos de dados muito volumosos e complexos que aplicações tradicionais de processamento de dados são inadequadas para lidar com eles. Com isso, o estudo/trabalho com Big Data está relacionado com lidar com  tecnologias para coletar, gerenciar e processar esse tipo de dado.\n",
    "\n",
    "\n",
    "Já a Ciência de Dados busca descobrir padrões em dados, podendo utilizar um conjunto de diferentes tipos de técnicas, inclusive com Big Data, para que com essas descobertas, seja  possível tomar decisões embasadas em dados.  "
   ]
  },
  {
   "cell_type": "markdown",
   "id": "2c2c81a1",
   "metadata": {},
   "source": [
    "## 2 - De que forma Estatística, Mineração de Dados e Aprendizagem de Máquina interagem com Ciência de Dados?\n",
    "\n",
    "Estatística - Análise exploratória, testes de hipótese e visualização dos dados;\n",
    "\n",
    "Mineração de Dados - Pré processar os dados antes de utilizá-los nos algoritmos de aprendizagem de máquina.\n",
    "\n",
    "Aprendizagem de Máquina - Algoritmos de alto desempenho para lidar com a escala de dados."
   ]
  },
  {
   "cell_type": "markdown",
   "id": "77624cb2",
   "metadata": {},
   "source": [
    "## 3 - Mostre a importância do conhecimento de domínio para o cientista de dados.\n",
    "\n",
    "O cientista de dados deve ter conhecimento de domínio do problema trabalhado ou pelo menos ter alguém na equipe que o tenha. Por exemplo, caso o cientista de dados esteja trabalhando com dados médicos, ele precisa ter um certo conhecimento da área para conseguir extrair as informações de forma correta, caso contrário, é capaz de que se encontre relações entre os dados trabalhados mas que não consiga-se extrair informações ou até extrair informações equivocadas."
   ]
  },
  {
   "cell_type": "markdown",
   "id": "d198bb24",
   "metadata": {},
   "source": [
    "## 4 - Crie um conjunto de dados com duas variáveis V1 e V2, tal que:\n",
    "### a. Mediana de V1 < Média de V1\n",
    "### b. Mediana de V2 > Média de V2"
   ]
  },
  {
   "cell_type": "code",
   "execution_count": 11,
   "id": "a7497c60",
   "metadata": {},
   "outputs": [
    {
     "name": "stdout",
     "output_type": "stream",
     "text": [
      "v1 mean: 48.884 > v1 median:  48.0\n",
      "v2 mean: 49.64 < v2 median:  51.0\n"
     ]
    }
   ],
   "source": [
    "def mean_greater():\n",
    "    while 1:\n",
    "      x = []\n",
    "      for i in range(1000):\n",
    "          x.append(randint(0, 100))\n",
    "      mean=np.mean(x)\n",
    "      median=np.median(x)\n",
    "      if mean>median:\n",
    "          break\n",
    "    return x\n",
    "def median_greater():\n",
    "    while 1:\n",
    "      x = []\n",
    "      for i in range(50):\n",
    "          x.append(randint(0, 100))\n",
    "      mean=np.mean(x)\n",
    "      median=np.median(x)\n",
    "      if median>mean:\n",
    "          break\n",
    "    return x\n",
    "\n",
    "\n",
    "v1=mean_greater()\n",
    "v2=median_greater()\n",
    "\n",
    "print(\"v1 mean:\",np.mean(v1),'>',\"v1 median: \",np.median(v1))\n",
    "print(\"v2 mean:\",np.mean(v2),'<',\"v2 median: \",np.median(v2))"
   ]
  },
  {
   "cell_type": "markdown",
   "id": "52fbcc70",
   "metadata": {},
   "source": [
    "## 5 - Baseando-se no conjunto de dados criado na questão 4, crie uma função em Python que:\n",
    "### a. Mostra o histograma de cada variável;\n",
    "### b. Verifica se as variáveis seguem uma distribuição Normal (use teste de hipótese);"
   ]
  },
  {
   "cell_type": "code",
   "execution_count": 12,
   "id": "69b80e68",
   "metadata": {},
   "outputs": [
    {
     "data": {
      "text/plain": [
       "Text(0.5, 1.0, 'V2 Histogram')"
      ]
     },
     "execution_count": 12,
     "metadata": {},
     "output_type": "execute_result"
    },
    {
     "data": {
      "image/png": "[encoded data removed]",
      "text/plain": [
       "<Figure size 720x720 with 2 Axes>"
      ]
     },
     "metadata": {
      "needs_background": "light"
     },
     "output_type": "display_data"
    }
   ],
   "source": [
    "plt.figure(figsize=(10,10))\n",
    "plt.subplot(211)\n",
    "plt.hist(x=v1, bins='auto', color='#0504aa', alpha=0.7, rwidth=0.85)\n",
    "plt.grid(axis='y', alpha=0.75)\n",
    "plt.xlabel('Value')\n",
    "plt.ylabel('Frequency')\n",
    "plt.title('V1 Histogram')\n",
    "\n",
    "plt.subplot(212)\n",
    "plt.hist(x=v2, bins='auto', color='#0504aa', alpha=0.7, rwidth=0.85)\n",
    "plt.grid(axis='y', alpha=0.75)\n",
    "plt.xlabel('Value')\n",
    "plt.ylabel('Frequency')\n",
    "plt.title('V2 Histogram')\n"
   ]
  },
  {
   "cell_type": "code",
   "execution_count": 13,
   "id": "7a5aff39",
   "metadata": {},
   "outputs": [
    {
     "name": "stdout",
     "output_type": "stream",
     "text": [
      "Statistics=0.954, p=0.000\n",
      "Dataset parace não ser Normal(rejeitamos H0)\n"
     ]
    }
   ],
   "source": [
    "from numpy.random import seed\n",
    "from numpy.random import randn\n",
    "from scipy.stats import shapiro\n",
    "\n",
    "# normality test\n",
    "stat, p = shapiro(v1)\n",
    "print('Statistics=%.3f, p=%.3f' % (stat, p))\n",
    "# interpret\n",
    "alpha = 0.05\n",
    "if p > alpha:\n",
    "\tprint('Dataset parace ser Normal (falha ao rejeitar H0)')\n",
    "else:\n",
    "\tprint('Dataset parace não ser Normal(rejeitamos H0)')"
   ]
  },
  {
   "cell_type": "code",
   "execution_count": 14,
   "id": "fd6bdc1a",
   "metadata": {},
   "outputs": [
    {
     "name": "stdout",
     "output_type": "stream",
     "text": [
      "Statistics=0.956, p=0.059\n",
      "Dataset parace ser Normal (falha ao rejeitar H0)\n"
     ]
    }
   ],
   "source": [
    "# normality test\n",
    "stat, p = shapiro(v2)\n",
    "print('Statistics=%.3f, p=%.3f' % (stat, p))\n",
    "# interpret\n",
    "alpha = 0.05\n",
    "if p > alpha:\n",
    "\tprint('Dataset parace ser Normal (falha ao rejeitar H0)')\n",
    "else:\n",
    "\tprint('Dataset parace não ser Normal(rejeitamos H0)')"
   ]
  },
  {
   "cell_type": "markdown",
   "id": "6faad3c3",
   "metadata": {},
   "source": [
    "## 6 - Cite 2 técnicas para remoção de ruídos e, para cada uma, mostre uma vantagem e uma desvantagem.\n",
    "\n",
    "Método de Binning: É um processo de suavização de dados, usado para minimizar os efeitos de pequenos erros de observação. Os valores dos dados originais são divididos em pequenos intervalos conhecidos como compartimentos e, em seguida, são substituídos por um valor geral calculado para esse compartimento. Pode-se substituir todos os dados em um segmento por seus valores médios ou limites.\n",
    "\n",
    "Regressão: Aqui os dados podem ser suavizados ajustando-os a uma função de regressão. Ela pode ser linear (com uma variável independente) ou múltipla (com várias variáveis ​​independentes).\n",
    "\n",
    "Uma vantagem é que sem esses dados discrepantes, um algoritmo em questão pode apresentar uma acurácia maior em seus resultados. Já uma desvantagem é que caso a base de dados não seja muito grande e que tenha muito ruído, pode-se ficar com poucos dados para trabalhar.\n"
   ]
  },
  {
   "cell_type": "markdown",
   "id": "e14059d1",
   "metadata": {},
   "source": [
    "## 7 - Qual é a importância de utilizar as seguintes abordagens de redução de dados no contexto de Ciência dos Dados?\n",
    "### a. Redução de dimensionalidade\n",
    "Tem como objetivo procurar encontrar um conjunto mínimo de atributos de tal forma que a informação original seja preservado.\n",
    "Principais motivações:\n",
    "\n",
    "i) um conjunto de atributos bem selecionado pode conduzir\n",
    "a modelos de conhecimento mais concisos e com maior precisão; \n",
    "\n",
    "ii) se o método de seleção dos atributos for rápido, o tempo de processamento necessário para utilizá-lo e, em seguida, aplicar o algoritmo de mineração de dados em um subconjunto dos atributos, pode ser inferior ao tempo de processamento para aplicar o algoritmo de mineração sobre todo o conjunto de atributos; \n",
    "\n",
    "iii) a eliminação de um atributo é muito mais significativa em termos de redução do tamanho de um conjunto de dados do que a exclusão de um registro.\n",
    "\n",
    "### b. Redução de numerosidade\n",
    "Consiste em reduzir o número de valores distintos em determinados atributos, o que pode proporcionar um melhor desempenho a diversos algoritmo de Mineração de Dados, sobretudo àqueles que envolvem manipulações simbólicas e comparações lógicas dos dados. Com menos valores, menos comparações são feitas, reduzindo o tempo de processamento de tais algoritmos."
   ]
  },
  {
   "cell_type": "markdown",
   "id": "1fc76e5e",
   "metadata": {},
   "source": [
    "## 8 - De que forma pode-se detectar overfitting em um classificador? \n",
    "\n",
    "Quando o modelo construído tem um bom desempenho com os dados que você treina, mas que não lida muito bem com novos dados. Se a \"acurácia \" (medida em relação ao conjunto de treinamento) for muito boa e a \"acurácia  de validação\" (medida em relação a um conjunto de validação) não for tão boa, então seu modelo está sofrendo de overfitting. Um outro indicativo é quando a mesma instância de teste obtém diferentes predições.\n"
   ]
  },
  {
   "cell_type": "markdown",
   "id": "0ceba975",
   "metadata": {},
   "source": [
    "## 9 - Em quais tipos de problemas é preferível utilizar leave-one-out a utilizar K-fold cross-validation?\n",
    "\n",
    "O procedimento de validação cruzada \"leave-one-out\" é  mais apropriado do que o K-fold quando você tem um pequeno conjunto de dados ou quando uma estimativa precisa do desempenho do modelo é mais importante do que o custo computacional do método.\n"
   ]
  },
  {
   "cell_type": "markdown",
   "id": "c8d93d22",
   "metadata": {},
   "source": [
    "## 10 - Crie um script em Python que avalie a diferença de desempenho do classificador K-NN e Naive Bayes para o conjunto de dados Iris (https://archive.ics.uci.edu/ml/datasets/iris). Use F-measure e K-fold cross-validation.\n"
   ]
  },
  {
   "cell_type": "code",
   "execution_count": 15,
   "id": "a7e4d678",
   "metadata": {},
   "outputs": [],
   "source": [
    "from sklearn.datasets import load_iris\n",
    "from sklearn.model_selection import train_test_split\n",
    "from sklearn.naive_bayes import GaussianNB\n",
    "from sklearn.neighbors import KNeighborsClassifier\n",
    "from sklearn.model_selection import KFold\n",
    "from sklearn.metrics import accuracy_score\n",
    "from sklearn.metrics import classification_report"
   ]
  },
  {
   "cell_type": "code",
   "execution_count": 19,
   "id": "c15e52e4",
   "metadata": {},
   "outputs": [
    {
     "data": {
      "text/plain": [
       "'\\nX, y = load_iris(return_X_y=True)\\nX_train, X_test, y_train, y_test = train_test_split(X, y, test_size=0.5, random_state=0)\\ngnb = GaussianNB()\\ny_pred = gnb.fit(X_train, y_train).predict(X_test)\\nprint(\"Number of mislabeled points out of a total %d points : %d\" % (X_test.shape[0], (y_test != y_pred).sum()))\\n'"
      ]
     },
     "execution_count": 19,
     "metadata": {},
     "output_type": "execute_result"
    }
   ],
   "source": [
    "\"\"\"\n",
    "X, y = load_iris(return_X_y=True)\n",
    "X_train, X_test, y_train, y_test = train_test_split(X, y, test_size=0.5, random_state=0)\n",
    "gnb = GaussianNB()\n",
    "y_pred = gnb.fit(X_train, y_train).predict(X_test)\n",
    "print(\"Number of mislabeled points out of a total %d points : %d\" % (X_test.shape[0], (y_test != y_pred).sum()))\n",
    "\"\"\""
   ]
  },
  {
   "cell_type": "code",
   "execution_count": 16,
   "id": "9dd64f99",
   "metadata": {},
   "outputs": [],
   "source": [
    "iris = load_iris()\n",
    "X = iris.data\n",
    "y = iris.target"
   ]
  },
  {
   "cell_type": "code",
   "execution_count": 17,
   "id": "76925081",
   "metadata": {},
   "outputs": [
    {
     "name": "stdout",
     "output_type": "stream",
     "text": [
      "Fold 1 results: \n",
      "Classification Report:\n",
      "              precision    recall  f1-score   support\n",
      "\n",
      "           0       1.00      1.00      1.00        19\n",
      "           1       0.93      1.00      0.97        14\n",
      "           2       1.00      0.94      0.97        17\n",
      "\n",
      "    accuracy                           0.98        50\n",
      "   macro avg       0.98      0.98      0.98        50\n",
      "weighted avg       0.98      0.98      0.98        50\n",
      "\n",
      "Fold 2 results: \n",
      "Classification Report:\n",
      "              precision    recall  f1-score   support\n",
      "\n",
      "           0       1.00      1.00      1.00        13\n",
      "           1       0.95      0.90      0.93        21\n",
      "           2       0.88      0.94      0.91        16\n",
      "\n",
      "    accuracy                           0.94        50\n",
      "   macro avg       0.94      0.95      0.95        50\n",
      "weighted avg       0.94      0.94      0.94        50\n",
      "\n",
      "Fold 3 results: \n",
      "Classification Report:\n",
      "              precision    recall  f1-score   support\n",
      "\n",
      "           0       1.00      1.00      1.00        18\n",
      "           1       0.93      0.93      0.93        15\n",
      "           2       0.94      0.94      0.94        17\n",
      "\n",
      "    accuracy                           0.96        50\n",
      "   macro avg       0.96      0.96      0.96        50\n",
      "weighted avg       0.96      0.96      0.96        50\n",
      "\n"
     ]
    }
   ],
   "source": [
    "# Gausian Naive Bayes\n",
    "n_folds = 3\n",
    "kf = KFold(n_splits=n_folds, shuffle=True)\n",
    "y_test_fold = 0\n",
    "\n",
    "gnb = GaussianNB()\n",
    "fold = 1\n",
    "\n",
    "for train_index, test_index in kf.split(X, y):\n",
    "    x_train_fold, x_test_fold = X[train_index], X[test_index]\n",
    "    y_train_fold, y_test_fold = y[train_index], y[test_index]\n",
    "    gnb.fit(x_train_fold, y_train_fold)\n",
    "    predictions = gnb.predict(x_test_fold)\n",
    "    print(\"Fold\", fold,\"results: \")\n",
    "    print(\"Classification Report:\")\n",
    "    print(classification_report(y_test_fold,predictions))\n",
    "    fold = fold + 1"
   ]
  },
  {
   "cell_type": "code",
   "execution_count": 18,
   "id": "9c78a0a3",
   "metadata": {},
   "outputs": [
    {
     "name": "stdout",
     "output_type": "stream",
     "text": [
      "Fold 1 results: \n",
      "Classification Report:\n",
      "              precision    recall  f1-score   support\n",
      "\n",
      "           0       1.00      1.00      1.00        16\n",
      "           1       0.94      0.83      0.88        18\n",
      "           2       0.83      0.94      0.88        16\n",
      "\n",
      "    accuracy                           0.92        50\n",
      "   macro avg       0.92      0.92      0.92        50\n",
      "weighted avg       0.92      0.92      0.92        50\n",
      "\n",
      "Fold 2 results: \n",
      "Classification Report:\n",
      "              precision    recall  f1-score   support\n",
      "\n",
      "           0       1.00      1.00      1.00        21\n",
      "           1       1.00      1.00      1.00        13\n",
      "           2       1.00      1.00      1.00        16\n",
      "\n",
      "    accuracy                           1.00        50\n",
      "   macro avg       1.00      1.00      1.00        50\n",
      "weighted avg       1.00      1.00      1.00        50\n",
      "\n",
      "Fold 3 results: \n",
      "Classification Report:\n",
      "              precision    recall  f1-score   support\n",
      "\n",
      "           0       1.00      1.00      1.00        13\n",
      "           1       1.00      0.95      0.97        19\n",
      "           2       0.95      1.00      0.97        18\n",
      "\n",
      "    accuracy                           0.98        50\n",
      "   macro avg       0.98      0.98      0.98        50\n",
      "weighted avg       0.98      0.98      0.98        50\n",
      "\n"
     ]
    }
   ],
   "source": [
    "#K-NN\n",
    "n_folds = 3\n",
    "kf = KFold(n_splits=n_folds, shuffle=True)\n",
    "y_test_fold = 0\n",
    "\n",
    "knn = KNeighborsClassifier(n_neighbors=7)\n",
    "fold = 1\n",
    "for train_index, test_index in kf.split(X, y):\n",
    "    x_train_fold, x_test_fold = X[train_index], X[test_index]\n",
    "    y_train_fold, y_test_fold = y[train_index], y[test_index]\n",
    "    knn.fit(x_train_fold, y_train_fold)\n",
    "    predictions = knn.predict(x_test_fold)\n",
    "    print(\"Fold\", fold,\"results: \")\n",
    "    print(\"Classification Report:\")\n",
    "    print(classification_report(y_test_fold,predictions))\n",
    "    fold = fold + 1"
   ]
  }
 ],
 "metadata": {
  "interpreter": {
   "hash": "31f2aee4e71d21fbe5cf8b01ff0e069b9275f58929596ceb00d14d90e3e16cd6"
  },
  "kernelspec": {
   "display_name": "Python 3 (ipykernel)",
   "language": "python",
   "name": "python3"
  },
  "language_info": {
   "codemirror_mode": {
    "name": "ipython",
    "version": 3
   },
   "file_extension": ".py",
   "mimetype": "text/x-python",
   "name": "python",
   "nbconvert_exporter": "python",
   "pygments_lexer": "ipython3",
   "version": "3.7.6"
  }
 },
 "nbformat": 4,
 "nbformat_minor": 5
}
